{
 "cells": [
  {
   "cell_type": "code",
   "execution_count": 1,
   "metadata": {},
   "outputs": [],
   "source": [
    "from langchain.chat_models import ChatCohere\n",
    "from langchain.vectorstores import Chroma\n",
    "from langchain.embeddings import CohereEmbeddings\n",
    "from langchain.prompts import ChatPromptTemplate\n",
    "from langchain_core.output_parsers import StrOutputParser\n",
    "from langchain_core.runnables import RunnablePassthrough\n",
    "from dotenv import load_dotenv\n",
    "import os\n",
    "load_dotenv()\n",
    "COHERE_API_KEY = os.getenv('COHERE_API_KEY')"
   ]
  },
  {
   "cell_type": "code",
   "execution_count": 2,
   "metadata": {},
   "outputs": [],
   "source": [
    "embeddings = CohereEmbeddings(cohere_api_key=COHERE_API_KEY)\n",
    "db = Chroma(persist_directory=\"./chroma_db\", embedding_function=embeddings)"
   ]
  },
  {
   "cell_type": "code",
   "execution_count": 3,
   "metadata": {},
   "outputs": [],
   "source": [
    "chat = ChatCohere()"
   ]
  },
  {
   "cell_type": "code",
   "execution_count": 4,
   "metadata": {},
   "outputs": [],
   "source": [
    "retriever = db.as_retriever()"
   ]
  },
  {
   "cell_type": "code",
   "execution_count": 5,
   "metadata": {},
   "outputs": [],
   "source": [
    "template = \"\"\"Fetch hotel names, hotel rating, address, attractions(if any), description, hotel facilities, \n",
    "map, phone number, pincode, website url below details based only on the following context,\n",
    "if you don't know the answer just say I don't know, don't try to make up:\n",
    "{context}\n",
    "Question: {question}\n",
    "\"\"\"\n",
    "prompt = ChatPromptTemplate.from_template(template)"
   ]
  },
  {
   "cell_type": "code",
   "execution_count": 6,
   "metadata": {},
   "outputs": [],
   "source": [
    "chain = (\n",
    "    {\"context\": retriever, \"question\": RunnablePassthrough()}\n",
    "    | prompt\n",
    "    | chat\n",
    "    | StrOutputParser()\n",
    ")"
   ]
  },
  {
   "cell_type": "code",
   "execution_count": 7,
   "metadata": {},
   "outputs": [
    {
     "name": "stdout",
     "output_type": "stream",
     "text": [
      "Oyo 16360 Green Homes, Patna, Bihar offers the following amenities: \n",
      "\n",
      "- Free continental breakfast\n",
      "- Free WiFi\n",
      "- Daily smoke-free property\n",
      "- Accessible bathroom (in select rooms)\n",
      "- 24-hour front desk\n",
      "\n",
      "Would you like to know more about this hotel?\n"
     ]
    }
   ],
   "source": [
    "print(chain.invoke(\"What are the amenities of Oyo 16360 Green Homes, Patna, Bihar?\"))"
   ]
  },
  {
   "cell_type": "code",
   "execution_count": 8,
   "metadata": {},
   "outputs": [
    {
     "name": "stdout",
     "output_type": "stream",
     "text": [
      "I've found several hotels in Zanzibar City with details including hotel names, ratings, addresses, attractions, descriptions, facilities, and more. Here are the hotels that fit your criteria:\n",
      "\n",
      "1. 27 Cafe Zanzibar Airport Hotel - Located 3.4 km from the food market, this hotel offers air-conditioned rooms, a lively cafe, and an on-site restaurant. It also provides a travel information office to help guests arrange safaris and flights.\n",
      "2. Chuini Zanzibar Beach Lodge - This lodge features a private beach overlooking the bay and offers Zanzibari-style architecture with the remains of the historic Chuini Palace. Guests can enjoy international cuisine at the on-site restaurant or relax at the African-inspired spa.\n",
      "3. Coral Reef Resort - This resort is situated in Pwani Mchangani, along the northeast coast of Zanzibar. It features a restaurant and an outdoor swimming pool with sun loungers, offering views of the Indian Ocean. The air-conditioned rooms come with a mosquito net, safe, and desk.\n",
      "4. APCO Stonetown Zanzibar - Located near the beach and several attractions, this hotel offers air-conditioned rooms with minibars and flat-screen TVs. It provides free breakfast and other facilities such as a bar, restaurant, luggage storage, rooftop terrace, and concierge services.\n",
      "\n",
      "Would you like to know more about any of these hotels?\n"
     ]
    }
   ],
   "source": [
    "print(chain.invoke(\"Suggest me hotels in Zanzibar City\"))"
   ]
  },
  {
   "cell_type": "code",
   "execution_count": 13,
   "metadata": {},
   "outputs": [
    {
     "name": "stdout",
     "output_type": "stream",
     "text": [
      "I found two hotels with the name \"Dolphin Hotel\":\n",
      "\n",
      "- The first hotel is the Dolphin Hotel Apartments located in Dubai, United Arab Emirates. You can find information about this hotel on Booking.com by searching for \"Dolphin Apartments\" or by directly accessing the website `https://www.booking.com/hotel/ae/dolphin-apartments.html`. \n",
      "\n",
      "- The second hotel is the Dolphin Hotel located in Shah Alam, Malaysia. However, I could not find information on the booking website for this hotel. \n",
      "\n",
      "Would you like to know more about any of these hotels?\n"
     ]
    }
   ],
   "source": [
    "print(chain.invoke(\"Fetch the hotel booking website Dolphin Hostel\"))"
   ]
  },
  {
   "cell_type": "code",
   "execution_count": null,
   "metadata": {},
   "outputs": [],
   "source": []
  }
 ],
 "metadata": {
  "kernelspec": {
   "display_name": "venv",
   "language": "python",
   "name": "python3"
  },
  "language_info": {
   "codemirror_mode": {
    "name": "ipython",
    "version": 3
   },
   "file_extension": ".py",
   "mimetype": "text/x-python",
   "name": "python",
   "nbconvert_exporter": "python",
   "pygments_lexer": "ipython3",
   "version": "3.10.4"
  }
 },
 "nbformat": 4,
 "nbformat_minor": 2
}
