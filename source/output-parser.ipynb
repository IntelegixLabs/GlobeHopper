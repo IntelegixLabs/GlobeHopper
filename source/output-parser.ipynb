{
 "cells": [
  {
   "cell_type": "code",
   "execution_count": 1,
   "metadata": {},
   "outputs": [],
   "source": [
    "import os\n",
    "from langchain.prompts import ChatPromptTemplate, HumanMessagePromptTemplate\n",
    "from langchain.chat_models import ChatCohere\n",
    "\n",
    "from langchain.output_parsers import PydanticOutputParser\n",
    "from pydantic import BaseModel, Field\n",
    "from typing import List\n",
    "from langchain.output_parsers import OutputFixingParser\n",
    "from langchain.schema import OutputParserException"
   ]
  },
  {
   "cell_type": "code",
   "execution_count": 2,
   "metadata": {},
   "outputs": [],
   "source": [
    "# Define a new Pydantic model with field descriptions and tailored for Twitter.\n",
    "class TravelGPT(BaseModel):\n",
    "    intro: str = Field(description=\"Introduction about destination\")\n",
    "    morning: str = Field(description=\"Suggest things to do in the morning\")\n",
    "    afternoon: str = Field(description=\"Suggest things to do in the afternoon\")\n",
    "    evening: str = Field(description=\"Suggest things to do in the evening\")\n",
    "    night: str = Field(description=\"Suggest things to do in the night\")\n",
    "\n",
    "class DaywisePlanner(BaseModel):\n",
    "    day_1: TravelGPT = Field(description=\"Schedule for Day 1\")\n",
    "    day_2: TravelGPT = Field(description=\"Schedule for Day 2\")\n",
    "    day_3: TravelGPT = Field(description=\"Schedule for Day 3\")\n",
    "    day_4: TravelGPT = Field(description=\"Schedule for Day 4\")\n",
    "    day_5: TravelGPT = Field(description=\"Schedule for Day 5\")"
   ]
  },
  {
   "cell_type": "code",
   "execution_count": 3,
   "metadata": {},
   "outputs": [],
   "source": [
    "# Instantiate the parser with the new model.\n",
    "parser = PydanticOutputParser(pydantic_object=DaywisePlanner)\n",
    "\n",
    "# Update the prompt to match the new query and desired format.\n",
    "prompt = ChatPromptTemplate(\n",
    "    messages=[\n",
    "        HumanMessagePromptTemplate.from_template(\n",
    "            \"Context : As a smart itinerary planner with extensive knowledge of places around the world, your task is to determine the user's travel destinations and any specific interests or preferences from their message. Create an itinerary that caters to the user's needs, making sure to name all activities, restaurants, and attractions specifically. When creating the itinerary, also consider factors such as time constraints and transportation options. Additionally, all attractions and restaurants listed in the itinerary must exist and be named specifically. During subsequent revisions, the itinerary can be modified, while keeping in mind the practicality of the itinerary. New place for each day. It's important to ensure that the number of activities per day is appropriate, and if the user doesn't specify otherwise, the default itinerary length is five days. The itinerary length should remain the same unless there is a change by the user's message..\\n{format_instructions}\\n{question}\"\n",
    "        )\n",
    "    ],\n",
    "    input_variables=[\"question\"],\n",
    "    partial_variables={\n",
    "        \"format_instructions\": parser.get_format_instructions(),\n",
    "    },\n",
    ")"
   ]
  },
  {
   "cell_type": "code",
   "execution_count": 4,
   "metadata": {},
   "outputs": [
    {
     "name": "stdout",
     "output_type": "stream",
     "text": [
      "```json\n",
      "{\n",
      " \"day_1\": {\n",
      "  \"intro\": \"Welcome to Paris, France, a city brimming with rich history, cultural attractions, and unforgettable experiences.\",\n",
      "  \"morning\": \"Begin your day with a stroll along the charming streets of the Eiffel Tower neighborhood. Take in the picturesque surroundings and snap some photos of the iconic tower. Consider visiting the Musée d'Orsay, a renowned art museum housed in a converted railway station, to admire its collection of Impressionist masterpieces.\",\n",
      "  \"afternoon\": \"Enjoy a leisurely lunch at a local café, sampling some of France's renowned culinary delights like croissants, baguettes, and pastries. In the afternoon, head to the Luxembourg Gardens, a tranquil green space where you can relax and unwind amidst lush greenery and beautiful fountains.\",\n",
      "  \"evening\": \"For dinner, treat yourself to a gourmet dining experience at a fancy restaurant in the Le Marais district, known for its vibrant food scene and trendy eateries. Try some traditional French dishes like coq au vin or soufflé.\",\n",
      "  \"night\": \"Cap off your first day in Paris with a scenic boat ride along the Seine River. Enjoy the city's illuminated skyline and witness the mesmerizing Eiffel Tower light show.\"\n",
      " },\n",
      " \"day_2\": {\n",
      "  \"intro\": \"On your second day in Paris, delve into the city's rich historical and cultural heritage.\",\n",
      "  \"morning\": \"Start your morning at the Palace of Versailles, an extravagant royal chateau that was once the residence of French monarchs. Explore the grand halls, gardens, and the famous Hall of Mirrors.\",\n",
      "  \"afternoon\": \"Enjoy a quick lunch at the Versailles palace or opt for a picnic amidst the lush greenery of the palace gardens.\",\n",
      "  \"evening\": \"In the evening, attend a mesmerizing ballet performance at the iconic Opera Garnier. This magnificent opera house is known for its grand architecture and has played host to many renowned dancers and musicians.\",\n",
      "  \"night\": \"End your day with a visit to the Latin Quarter, a lively neighborhood known for its vibrant student population and buzzing atmosphere. Enjoy a drink at a local bar and soak up the energetic ambiance.\"\n",
      " },\n",
      " \"day_3\": {\n",
      "  \"intro\": \"Explore the diverse neighborhoods and cultural highlights of Paris on your third day.\",\n",
      "  \"morning\": \"Begin at the Montmartre neighborhood, renowned for its charming village vibe, cobblestone streets, and the iconic Sacré-Cœur Basilica perched atop the hill.\",\n",
      "  \"afternoon\": \"After lunch, head to the Marais district, which blends historical architecture with a vibrant LGBTQ+ community and trendy fashion scene. Browse the quirky shops and intriguing museums scattered throughout the neighborhood.\",\n",
      "  \"evening\": \"In the evening, indulge in some retail therapy at the Galeries Lafayette, a luxurious department store known for its upscale fashion and designer brands.\",\n",
      "  \"night\": \"Complete your day with a memorable meal at a traditional French bistro, savoring classic dishes like steak frites and crème brûlée.\"\n",
      " },\n",
      " \"day_4\": {\n",
      "  \"intro\": \"On your fourth day, immerse yourself in the artistic and literary delights of Paris.\",\n",
      "  \"morning\": \"Begin at the Musée Picasso, which houses the largest collection of Picasso's works in France, providing invaluable insight into his versatile career.\",\n",
      "  \"afternoon\": \"Enjoy an afternoon break at a café located near the Musée d'Orangerie, famous for its impressionist and post-impressionist collections.\",\n",
      "  \"evening\": \"In the evening, attend a poetry reading or literary event at the Shakespeare and Company bookstore, a beloved English-language bookstore that has hosted many renowned writers throughout history.\",\n",
      "  \"night\": \"End your day with a stroll along the Seine River, pausing to admire the beautiful illuminated monuments and soaking up the romantic ambiance that has inspired many poets and artists.\"\n",
      " },\n",
      " \"day_5\": {\n",
      "  \"intro\": \"On your final day in Paris, take in the city's vibrant atmosphere and bid it farewell.\",\n",
      "  \"morning\": \"Spend your last morning exploring the Canal Saint-Martin neighborhood, a hip and eclectic area known for its quaint canals, quaint shops, and quaint cafés.\",\n",
      "  \"afternoon\": \"Enjoy a leisurely lunch at a café terrace, watching the lively street scene unfold before bidding Paris farewell as you prepare for your journey home.\",\n",
      "  \"evening\": \"Reflect on your unforgettable Parisian adventure as you look forward to returning home with unforgettable memories and a deeper appreciation for the beauty and culture of France.\",\n",
      "  \"night\": \"The rest of the evening is at your leisure to make any last-minute memories or purchases before your departure.\"\n",
      " }\n",
      "}\n",
      "```\n",
      "\n",
      "Remember, this is just a sample itinerary based on the information provided. You can customize it further to fit your specific interests, preferences, and time constraints. Paris has much to offer, and I can provide more targeted suggestions if you share more details about the types of activities and experiences that most captivate your interest. \n",
      "\n",
      "Let me know if you would like me to help you further refine this itinerary or generate a new one for another destination!\n",
      "day_1=TravelGPT(intro='Welcome to Paris, France, a city brimming with rich history, cultural attractions, and unforgettable experiences.', morning=\"Begin your day with a stroll along the charming streets of the Eiffel Tower neighborhood. Take in the picturesque surroundings and snap some photos of the iconic tower. Consider visiting the Musée d'Orsay, a renowned art museum housed in a converted railway station, to admire its collection of Impressionist masterpieces.\", afternoon=\"Enjoy a leisurely lunch at a local café, sampling some of France's renowned culinary delights like croissants, baguettes, and pastries. In the afternoon, head to the Luxembourg Gardens, a tranquil green space where you can relax and unwind amidst lush greenery and beautiful fountains.\", evening='For dinner, treat yourself to a gourmet dining experience at a fancy restaurant in the Le Marais district, known for its vibrant food scene and trendy eateries. Try some traditional French dishes like coq au vin or soufflé.', night=\"Cap off your first day in Paris with a scenic boat ride along the Seine River. Enjoy the city's illuminated skyline and witness the mesmerizing Eiffel Tower light show.\") day_2=TravelGPT(intro=\"On your second day in Paris, delve into the city's rich historical and cultural heritage.\", morning='Start your morning at the Palace of Versailles, an extravagant royal chateau that was once the residence of French monarchs. Explore the grand halls, gardens, and the famous Hall of Mirrors.', afternoon='Enjoy a quick lunch at the Versailles palace or opt for a picnic amidst the lush greenery of the palace gardens.', evening='In the evening, attend a mesmerizing ballet performance at the iconic Opera Garnier. This magnificent opera house is known for its grand architecture and has played host to many renowned dancers and musicians.', night='End your day with a visit to the Latin Quarter, a lively neighborhood known for its vibrant student population and buzzing atmosphere. Enjoy a drink at a local bar and soak up the energetic ambiance.') day_3=TravelGPT(intro='Explore the diverse neighborhoods and cultural highlights of Paris on your third day.', morning='Begin at the Montmartre neighborhood, renowned for its charming village vibe, cobblestone streets, and the iconic Sacré-Cœur Basilica perched atop the hill.', afternoon='After lunch, head to the Marais district, which blends historical architecture with a vibrant LGBTQ+ community and trendy fashion scene. Browse the quirky shops and intriguing museums scattered throughout the neighborhood.', evening='In the evening, indulge in some retail therapy at the Galeries Lafayette, a luxurious department store known for its upscale fashion and designer brands.', night='Complete your day with a memorable meal at a traditional French bistro, savoring classic dishes like steak frites and crème brûlée.') day_4=TravelGPT(intro='On your fourth day, immerse yourself in the artistic and literary delights of Paris.', morning=\"Begin at the Musée Picasso, which houses the largest collection of Picasso's works in France, providing invaluable insight into his versatile career.\", afternoon=\"Enjoy an afternoon break at a café located near the Musée d'Orangerie, famous for its impressionist and post-impressionist collections.\", evening='In the evening, attend a poetry reading or literary event at the Shakespeare and Company bookstore, a beloved English-language bookstore that has hosted many renowned writers throughout history.', night='End your day with a stroll along the Seine River, pausing to admire the beautiful illuminated monuments and soaking up the romantic ambiance that has inspired many poets and artists.') day_5=TravelGPT(intro=\"On your final day in Paris, take in the city's vibrant atmosphere and bid it farewell.\", morning='Spend your last morning exploring the Canal Saint-Martin neighborhood, a hip and eclectic area known for its quaint canals, quaint shops, and quaint cafés.', afternoon='Enjoy a leisurely lunch at a café terrace, watching the lively street scene unfold before bidding Paris farewell as you prepare for your journey home.', evening='Reflect on your unforgettable Parisian adventure as you look forward to returning home with unforgettable memories and a deeper appreciation for the beauty and culture of France.', night='The rest of the evening is at your leisure to make any last-minute memories or purchases before your departure.')\n"
     ]
    }
   ],
   "source": [
    "chat_model = ChatCohere()\n",
    "\n",
    "# Generate the input using the updated prompt.\n",
    "user_query = (\n",
    "    \"Suggest me itinerary for trip to Paris, France.\"\n",
    ")\n",
    "_input = prompt.format_prompt(question=user_query)\n",
    "\n",
    "output = chat_model(_input.to_messages())\n",
    "try:\n",
    "    parsed = parser.parse(output.content)\n",
    "except OutputParserException as e:\n",
    "    new_parser = OutputFixingParser.from_llm(\n",
    "        parser=parser,\n",
    "        llm=ChatCohere()\n",
    "    )\n",
    "    parsed = new_parser.parse(output.content)\n",
    "print(output.content)\n",
    "print(parsed)"
   ]
  },
  {
   "cell_type": "code",
   "execution_count": 8,
   "metadata": {},
   "outputs": [
    {
     "data": {
      "text/plain": [
       "\"Begin your day with a stroll along the charming streets of the Eiffel Tower neighborhood. Take in the picturesque surroundings and snap some photos of the iconic tower. Consider visiting the Musée d'Orsay, a renowned art museum housed in a converted railway station, to admire its collection of Impressionist masterpieces.\""
      ]
     },
     "execution_count": 8,
     "metadata": {},
     "output_type": "execute_result"
    }
   ],
   "source": [
    "parsed.day_1.morning"
   ]
  }
 ],
 "metadata": {
  "kernelspec": {
   "display_name": "venv",
   "language": "python",
   "name": "python3"
  },
  "language_info": {
   "codemirror_mode": {
    "name": "ipython",
    "version": 3
   },
   "file_extension": ".py",
   "mimetype": "text/x-python",
   "name": "python",
   "nbconvert_exporter": "python",
   "pygments_lexer": "ipython3",
   "version": "3.10.4"
  }
 },
 "nbformat": 4,
 "nbformat_minor": 2
}
