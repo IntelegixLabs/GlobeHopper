{
 "cells": [
  {
   "cell_type": "code",
   "execution_count": 14,
   "metadata": {},
   "outputs": [],
   "source": [
    "import cohere  \n",
    "import os \n",
    "from dotenv import load_dotenv\n",
    "load_dotenv()\n",
    "from datetime import date\n",
    "import json\n",
    "\n",
    "co = cohere.Client(os.getenv(\"COHERE_API_KEY\"))"
   ]
  },
  {
   "cell_type": "code",
   "execution_count": 15,
   "metadata": {},
   "outputs": [],
   "source": [
    "source = \"Kolkata\"\n",
    "dest = \"Goa\"\n",
    "start = date(2024, 3, 1)\n",
    "end = date(2024, 3, 10)\n",
    "\n",
    "prompt = \"Context - Consider yourself a travel planner. Show me daywise planner for all days from \"+ str(start) + \" to \" + str(end) +\\\n",
    "\"Display the output in form of JSON object:\\\n",
    "{trip-planner:[{intro : about_\" +dest+ \".},{flights: suggest flights to take from \" + source + \" to \" + dest + \"},\\\n",
    "{ hotel: suggest popular hotel_names},\\\n",
    "{dates:\" + str(start) + \" to \" + str(end) + \".},\\\n",
    "{itinerary: from \" + str(start) + \" to \" + str(end) + \". \\\n",
    "[\\\n",
    "Day: number,\\\n",
    "[\\\n",
    "{ morning: suggest popular restaurants to have breakfast, suggest places of interest, commute to places},\\\n",
    "{afternoon: suggest popular restaurants to have lunch, suggest places of interest, commute to places},\\\n",
    "{evening: suggest popular restaurants to have dinner, suggest places of interest, commute to places},\\\n",
    "],\\\n",
    "{return: suggest return flights to take},\\\n",
    "],\\\n",
    "},\\\n",
    "],\\\n",
    "}\""
   ]
  },
  {
   "cell_type": "code",
   "execution_count": 16,
   "metadata": {},
   "outputs": [
    {
     "name": "stdout",
     "output_type": "stream",
     "text": [
      "Context - Consider yourself a travel planner. Show me daywise planner for all days from 2024-03-01 to 2024-03-10Display the output in form of JSON object:{trip-planner:[{intro : about_Goa.},{flights: suggest flights to take from Kolkata to Goa},{ hotel: suggest popular hotel_names},{dates:2024-03-01 to 2024-03-10.},{itinerary: from 2024-03-01 to 2024-03-10. [Day: number,[{ morning: suggest popular restaurants to have breakfast, suggest places of interest, commute to places},{afternoon: suggest popular restaurants to have lunch, suggest places of interest, commute to places},{evening: suggest popular restaurants to have dinner, suggest places of interest, commute to places},],{return: suggest return flights to take},],},],}\n"
     ]
    }
   ],
   "source": [
    "print(prompt)"
   ]
  },
  {
   "cell_type": "code",
   "execution_count": 17,
   "metadata": {},
   "outputs": [],
   "source": [
    "response = co.generate(  \n",
    "    model='command-nightly',  \n",
    "    prompt = prompt,  \n",
    "    # temperature=5,\n",
    "    # max_tokens=2048,\n",
    "    )\n",
    "\n",
    "# response = co.chat(  \n",
    "#     model='command-nightly',  \n",
    "#     message=prompt,  \n",
    "#     temperature=0\n",
    "#     )"
   ]
  },
  {
   "cell_type": "code",
   "execution_count": 18,
   "metadata": {},
   "outputs": [
    {
     "name": "stdout",
     "output_type": "stream",
     "text": [
      " Here is a trip planner for a 10-day trip from March 1st, 2024 to March 10th, 2024, with days broken down into mornings, afternoons, and evenings: \n",
      "\n",
      "```json\n",
      "{\n",
      "  \"trip-planner\": [\n",
      "    {\n",
      "      \"intro\": \"Welcome to Goa, a paradise of beaches and breathtaking landscapes. From its idyllic beaches to its vibrant culture and cuisine, this coastal state in India offers a perfect blend of relaxation and adventure.\",\n",
      "      \"flights\": \"Here are some flight options for you from Kolkata to Goa.\",\n",
      "      \"hotel\": \"Here are some popular hotel options for your stay in Goa:\",\n",
      "      \"dates\": \"From: 2024-03-01 To: 2024-03-10\"\n",
      "    },\n",
      "    {\n",
      "      \"itinerary\": \"Here is an itinerary for each day of your trip:\",\n",
      "      [\"Day 1\": \"Upon arrival, check into your hotel and take some time to relax. In the evening, you can visit one of the many beaches Goa has to offer, such as Calangute or Baga beach. Here you can take a stroll, enjoy refreshing beverages, and savor the stunning sunset over the Arabian Sea.\",\n",
      "       \"Day 2\": \"Start your day with a visit to Old Goa, where you can explore the historic churches and cathedrals, including the Basilica of Bom Jesus and Sé Cathedral. Enjoy a traditional Goan lunch at a local restaurant. In the afternoon, you can opt for a stroll through the Tropical Spice Plantation, where you can learn about the region's rich spice history and enjoy a guided tour of the plantation. End your day with a seafood dinner at one of the many beach shacks at Calangute.\",\n",
      "       \"Day 3\": \"On this day, you can take a trip to the state of Karnataka, located near the border, where you can visit the beautiful town of Hampi. Hampi is known for its gorgeous ruins and temples set amidst rocky terrain. Learn about the history and culture of the region while enjoying the scenery. Return to Goa for dinner at one of the many seafood restaurants near the coastline.\",\n",
      "       \"Day 4\": \"Spend the day exploring the southern region of Goa, home to beautiful beaches such as Palolem and Colva. These beaches are known for their serene beauty and calm atmosphere. You can also visit the Shanta Durga Temple in the afternoon, which is located near the beach and offers a peaceful oasis. End your day with dinner at a local restaurant, sampling the delicious Goan cuisine.\",\n",
      "       \"Day 5\": \"On this day, you can take a break from the beach and opt for an adventurous hike in the lush forests of Molem National Park. Situated amidst the Western Ghats, this park is home to diverse flora and fauna, including wild elephants, leopards, and exotic birds. Enjoy the breathtaking views and fresh air before returning to your hotel for the night.\",\n",
      "       \"Day 6\": \"Visit the northern part of Goa and explore the famous Anjuna Flea Market. Here, you can find a variety of souvenirs, traditional jewelry, handicrafts, and local food products. After a fun day of shopping, enjoy a delicious dinner at one of the many restaurants in this area.\",\n",
      "       \"Day 7\": \"Spend a peaceful morning at one of the many yoga centers or spa resorts in Goa, rejuvenating your mind and body. In the afternoon, you can visit the beautiful Church of Our Lady of Immaculate Conception in Panjim. The church is known for its stunning architecture and is a UNESCO World Heritage Site. End your day with a delicious dinner at a local restaurant.\",\n",
      "       \"Day 8\": \"Head to the historical Fort Aguada, which is situated near the coast and offers a panoramic view of the Arabian Sea. Learn about its rich history and capture stunning photos of the sunset. For dinner, you can try one of the many seafood restaurants near the fort.\",\n",
      "       \"Day 9\": \"On this day, you can take a boat ride to explore the famous backwaters of Goa. Glide through tranquil waterways, scenic landscapes, and quaint villages. Enjoy a delicious lunch onboard the boat. You can also spot various bird species and learn about the local culture. End your day with a relaxing dinner at your hotel.\",\n",
      "       \"Day 10\": \"After breakfast, check out of your hotel and take a transfer to the airport for your return flight. En-route, you can stop at a local restaurant to have lunch and savor the last flavors of Goa before your departure.\"\n",
      "      ]\n",
      "    },\n",
      "    {\n",
      "      \"return\": \"Here are some return flight options for your journey back to Kolkata\"\n",
      "    }\n",
      "  ]\n",
      "}\n",
      "```\n",
      "\n",
      "Please note that the above itinerary includes suggestions for flights, hotels, restaurants, and attractions. You may need to make reservations and book tickets for the flights, hotels, and attractions in advance, and current availability may change at the time of your trip. \n"
     ]
    }
   ],
   "source": [
    "res = response.generations[0].text\n",
    "# res = response.text\n",
    "\n",
    "# Replace \"\\n\\n\" with actual newline characters\n",
    "formatted_text = res.replace(\"\\\\n\\\\n\", \"\\n\")\n",
    "\n",
    "# Print the formatted text\n",
    "print(formatted_text)"
   ]
  },
  {
   "cell_type": "code",
   "execution_count": 24,
   "metadata": {},
   "outputs": [
    {
     "name": "stdout",
     "output_type": "stream",
     "text": [
      "\" Here is a trip planner for a 10-day trip from March 1st, 2024 to March 10th, 2024, with days broken down into mornings, afternoons, and evenings: \\n\\n```json\\n{\\n  \\\"trip-planner\\\": [\\n    {\\n      \\\"intro\\\": \\\"Welcome to Goa, a paradise of beaches and breathtaking landscapes. From its idyllic beaches to its vibrant culture and cuisine, this coastal state in India offers a perfect blend of relaxation and adventure.\\\",\\n      \\\"flights\\\": \\\"Here are some flight options for you from Kolkata to Goa.\\\",\\n      \\\"hotel\\\": \\\"Here are some popular hotel options for your stay in Goa:\\\",\\n      \\\"dates\\\": \\\"From: 2024-03-01 To: 2024-03-10\\\"\\n    },\\n    {\\n      \\\"itinerary\\\": \\\"Here is an itinerary for each day of your trip:\\\",\\n      [\\\"Day 1\\\": \\\"Upon arrival, check into your hotel and take some time to relax. In the evening, you can visit one of the many beaches Goa has to offer, such as Calangute or Baga beach. Here you can take a stroll, enjoy refreshing beverages, and savor the stunning sunset over the Arabian Sea.\\\",\\n       \\\"Day 2\\\": \\\"Start your day with a visit to Old Goa, where you can explore the historic churches and cathedrals, including the Basilica of Bom Jesus and S\\u00e9 Cathedral. Enjoy a traditional Goan lunch at a local restaurant. In the afternoon, you can opt for a stroll through the Tropical Spice Plantation, where you can learn about the region's rich spice history and enjoy a guided tour of the plantation. End your day with a seafood dinner at one of the many beach shacks at Calangute.\\\",\\n       \\\"Day 3\\\": \\\"On this day, you can take a trip to the state of Karnataka, located near the border, where you can visit the beautiful town of Hampi. Hampi is known for its gorgeous ruins and temples set amidst rocky terrain. Learn about the history and culture of the region while enjoying the scenery. Return to Goa for dinner at one of the many seafood restaurants near the coastline.\\\",\\n       \\\"Day 4\\\": \\\"Spend the day exploring the southern region of Goa, home to beautiful beaches such as Palolem and Colva. These beaches are known for their serene beauty and calm atmosphere. You can also visit the Shanta Durga Temple in the afternoon, which is located near the beach and offers a peaceful oasis. End your day with dinner at a local restaurant, sampling the delicious Goan cuisine.\\\",\\n       \\\"Day 5\\\": \\\"On this day, you can take a break from the beach and opt for an adventurous hike in the lush forests of Molem National Park. Situated amidst the Western Ghats, this park is home to diverse flora and fauna, including wild elephants, leopards, and exotic birds. Enjoy the breathtaking views and fresh air before returning to your hotel for the night.\\\",\\n       \\\"Day 6\\\": \\\"Visit the northern part of Goa and explore the famous Anjuna Flea Market. Here, you can find a variety of souvenirs, traditional jewelry, handicrafts, and local food products. After a fun day of shopping, enjoy a delicious dinner at one of the many restaurants in this area.\\\",\\n       \\\"Day 7\\\": \\\"Spend a peaceful morning at one of the many yoga centers or spa resorts in Goa, rejuvenating your mind and body. In the afternoon, you can visit the beautiful Church of Our Lady of Immaculate Conception in Panjim. The church is known for its stunning architecture and is a UNESCO World Heritage Site. End your day with a delicious dinner at a local restaurant.\\\",\\n       \\\"Day 8\\\": \\\"Head to the historical Fort Aguada, which is situated near the coast and offers a panoramic view of the Arabian Sea. Learn about its rich history and capture stunning photos of the sunset. For dinner, you can try one of the many seafood restaurants near the fort.\\\",\\n       \\\"Day 9\\\": \\\"On this day, you can take a boat ride to explore the famous backwaters of Goa. Glide through tranquil waterways, scenic landscapes, and quaint villages. Enjoy a delicious lunch onboard the boat. You can also spot various bird species and learn about the local culture. End your day with a relaxing dinner at your hotel.\\\",\\n       \\\"Day 10\\\": \\\"After breakfast, check out of your hotel and take a transfer to the airport for your return flight. En-route, you can stop at a local restaurant to have lunch and savor the last flavors of Goa before your departure.\\\"\\n      ]\\n    },\\n    {\\n      \\\"return\\\": \\\"Here are some return flight options for your journey back to Kolkata\\\"\\n    }\\n  ]\\n}\\n```\\n\\nPlease note that the above itinerary includes suggestions for flights, hotels, restaurants, and attractions. You may need to make reservations and book tickets for the flights, hotels, and attractions in advance, and current availability may change at the time of your trip. \"\n"
     ]
    }
   ],
   "source": [
    "formatted_text = json.dumps(formatted_text)\n",
    "print(formatted_text)"
   ]
  },
  {
   "cell_type": "code",
   "execution_count": null,
   "metadata": {},
   "outputs": [],
   "source": []
  }
 ],
 "metadata": {
  "kernelspec": {
   "display_name": "Python 3 (ipykernel)",
   "language": "python",
   "name": "python3"
  },
  "language_info": {
   "codemirror_mode": {
    "name": "ipython",
    "version": 3
   },
   "file_extension": ".py",
   "mimetype": "text/x-python",
   "name": "python",
   "nbconvert_exporter": "python",
   "pygments_lexer": "ipython3",
   "version": "3.9.12"
  }
 },
 "nbformat": 4,
 "nbformat_minor": 2
}
