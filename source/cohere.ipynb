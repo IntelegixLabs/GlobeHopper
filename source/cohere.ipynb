{
 "cells": [
  {
   "cell_type": "code",
   "execution_count": 2,
   "metadata": {},
   "outputs": [],
   "source": [
    "import cohere  \n",
    "import os \n",
    "from dotenv import load_dotenv\n",
    "load_dotenv()\n",
    "from datetime import date\n",
    "\n",
    "co = cohere.Client(os.getenv(\"COHERE_API_KEY\"))"
   ]
  },
  {
   "cell_type": "code",
   "execution_count": 69,
   "metadata": {},
   "outputs": [],
   "source": [
    "source = \"Bhopal\"\n",
    "dest = \"Chennai\"\n",
    "start = date(2024, 3, 1)\n",
    "end = date(2024, 3, 10)\n",
    "\n",
    "prompt = \"Context - Consider yourself a travel planner. Show me daywise planner for all days from \"+ str(start) + \" to \" + str(end) +\\\n",
    "\"Display the output in form of JSON object:\\\n",
    "{trip-planner:[{intro : about_\" +dest+ \".},{flights: suggest flights to take from \" + source + \" to \" + dest + \"},\\\n",
    "{ hotel: suggest popular hotel_names},\\\n",
    "{dates:\" + str(start) + \" to \" + str(end) + \".},\\\n",
    "{itinerary: from \" + str(start) + \" to \" + str(end) + \". \\\n",
    "[\\\n",
    "Day: number,\\\n",
    "[\\\n",
    "{ morning: suggest popular restaurants to have breakfast, suggest places of interest, commute to places},\\\n",
    "{afternoon: suggest popular restaurants to have lunch, suggest places of interest, commute to places},\\\n",
    "{evening: suggest popular restaurants to have dinner, suggest places of interest, commute to places},\\\n",
    "],\\\n",
    "{return: suggest return flights to take},\\\n",
    "],\\\n",
    "},\\\n",
    "],\\\n",
    "}\""
   ]
  },
  {
   "cell_type": "code",
   "execution_count": 60,
   "metadata": {},
   "outputs": [
    {
     "name": "stdout",
     "output_type": "stream",
     "text": [
      "Context - Consider yourself a travel planner.Display the output in form of JSON object:{trip-planner:[{intro : about_Toronto.},{flights: suggest flights to take from New York to Toronto},{ hotel: suggest popular hotel_names},{dates:2024-01-01 to 2024-01-10.},{itinerary: from2024-01-01 to 2024-01-10. [Day: number,[{ morning: suggest popular restaurants to have breakfast, suggest places of interest, commute to places},{afternoon: suggest popular restaurants to have lunch, suggest places of interest, commute to places},{evening: suggest popular restaurants to have dinner, suggest places of interest, commute to places},],{return: suggest return flights to take},],},],}\n"
     ]
    }
   ],
   "source": [
    "print(prompt)"
   ]
  },
  {
   "cell_type": "code",
   "execution_count": 70,
   "metadata": {},
   "outputs": [],
   "source": [
    "response = co.generate(  \n",
    "    model='command-nightly',  \n",
    "    prompt = prompt,  \n",
    "    # temperature=5,\n",
    "    # max_tokens=2048,\n",
    "    )\n",
    "\n",
    "# response = co.chat(  \n",
    "#     model='command-nightly',  \n",
    "#     message=prompt,  \n",
    "#     temperature=0\n",
    "#     )"
   ]
  },
  {
   "cell_type": "code",
   "execution_count": 71,
   "metadata": {},
   "outputs": [
    {
     "name": "stdout",
     "output_type": "stream",
     "text": [
      " Here is a sample day-by-day trip planner for a trip to Chennai, India, lasting from March 1st to March 10th, 2024: \n",
      "\n",
      "```json\n",
      "{\n",
      "    \"trip-planner\": [\n",
      "        {\n",
      "            \"intro\": \"Chennai, also known as the 'Detroit of India,' is one of the most attractive cities in South India. With a vibrant culture and a rich historical background, Chennai is a city that never sleeps. From a plethora of temples to some of the cleanest beaches and from spectacular architectural masterpieces to mouth-watering culinary delights, Chennai has something to offer for everyone.\",\n",
      "            \"flights\": \"We recommend booking flights from Bhopal to Chennai ahead of time for the best prices and travel convenience. Below are some recommended flights to consider:\",\n",
      "            \"hotel\": \"There are many great places to stay during your visit. Here are some popular hotel names for you to consider booking:\",\n",
      "            \"dates\": \"From March 1st to March 10th, 2024\",\n",
      "            \"itinerary\": \"Here is a detailed itinerary for each day of your trip:\"\n",
      "        }\n",
      "    ]\n",
      "    \"{\n",
      "        \\\"day-1\\\":\" + \n",
      "        \" [{\\\"morning\\\" : \\\"Suggested breakfast joints in Chennai\\\", \\\"suggested places of interest\\\" : \\\"Marina Beach, Government Museum, and Snake Park\\\", \\\"commute to places\\\" : \\\"walk, taxi, or bus\\\"}, \" + \n",
      "        \"{\n",
      "            \\\"afternoon\\\" : \\\"Suggested lunch joints in Chennai\\\", \\\"suggested places of interest\\\" : \\\"San Thome Cathedral, and Kapaleeshwar Temple\\\", \\\"commute to places\\\" : \\\"hire a taxi or auto\\\" \n",
      "        }, {\n",
      "            \\\"evening\\\" : \\\"Suggested dinner joints in Chennai\\\", \\\"suggested places of interest\\\" : \\\"Chennai Lighthouse and the Fort St. George\\\",  \\\"commute to places\\\" : \\\"auto or taxi\\\" \n",
      "        }], \",\n",
      "        \"day-2\": \"{\\\"morning\\\" : \\\"Suggested breakfast joints in Chennai\\\", \\\"suggested places of interest\\\" : \\\"Valluvar Kottam and Nettikkuppam Beach\\\", \\\"commute to places\\\" : \\\"auto or metro\\'\\\", \n",
      "            \\\"afternoon\\\" : \\\"Suggested lunch joints in Chennai\\\", \\\"suggested places of interest\\\" : \\\"Kamaraj Lake and Arignar Anna Zoo\\\",  \\\"commute to places\\\" : \\\"taxi or bus\\\" }, \" + \n",
      "        \"{\n",
      "            \\\"evening\\\" : \\\"Suggested dinner joints in Chennai\\\", \\\"suggested places of interest\\\" : \\\"Madras Motor Race Track (MMRT) and offers in Chennai City Center\\\", \\\"commute to places\\\" : \\\"taxi or bus\\\" \n",
      "        }], \" + \n",
      "        \"day-3: [{\\\"morning\\\" : \\\"Suggested breakfast joints in Chennai\\\", \\\"suggested places of interest\\\" : \\\"Thirumayilai Temple and Pulicat Lake\\\", \\\"commute to places\\\" : \\\"taxi or bus\\\" }, \" + \n",
      "        \"{\n",
      "            \\\"afternoon\\\" : \\\"Suggested lunch joints in Chennai\\\", \\\"suggested places of interest\\\" : \\\"S rela Valliamma Temple and Vedanthangal Bird Sanctuary\\\", \\\"commute to places\\\" : \\\"auto or taxi\\\" \n",
      "        }, {\n",
      "            \\\"evening\\\" : \\\"Suggested dinner joints in Chennai\\\", \\\"suggested places of interest\\\" : \\\"Sathya Sai Ashram and Adyar Banyan Tree\\\", \\\"commute to places\\\" : \\\"walk or bus\\\" \n",
      "        }], \" + \n",
      "        \"day-4: [{\\\"morning\\\" : \\\"Suggested breakfast joints in Chennai\\\", \\\"suggested places of interest\\\" : \\\"Cholkarti Temple and Mahabalipuram\\\", \\\"commute to places\\\" : \\\"taxi or train\\\" }, \" + \n",
      "        \"{\n",
      "            \\\"afternoon\\\" : \\\"Suggested lunch joints in Chennai\\\", \\\"suggested places of interest\\\" : \\\"Kanchipuram and Vedanthangal Bird Sanctuary\\\", \\\"commute to places\\\" : \\\"bus or auto\\\" \n",
      "        }, {\n",
      "            \\\"evening\\\" : \\\"Suggested dinner joints in Chennai\\\", \\\"suggested places of interest\\\" : \\\"Kottivakkam Beach and Tiruvottiyur Temple\\\", \\\"commute to places\\\" : \\\"taxi or metro\\\" \n",
      "        }], \" + \n",
      "        \"day-5: [{\\\"morning\\\" : \\\"Suggested breakfast joints in Chennai\\\", \\\"suggested places of interest\\\" : \\\"Mamallapuram and Tiger Cave\\\"\", \"commute to places\\\" : \\\"taxi or train\\\" }, \" + \n",
      "        \"{\n",
      "            \\\"afternoon\\\" : \\\"Suggested lunch joints in Chennai\\\", \\\"suggested places of interest\\\" : \\\"Kanchipuram Temple and Vellore Fort\\\", \\\"commute to places\\\" : \\\"bus or auto\\\" \n",
      "        }, {\n",
      "            \\\"evening\\\" : \\\"Suggested dinner joints in Chennai\\\", \\\"suggested places of interest\\\" : \\\"War Memorial and Araniyar Temple\\\", \\\"commute to places\\\" : \\\"taxi or metro\\\" \n",
      "        }], \",\n",
      "        \"day-6\": \" [{\\\"morning\\\" : \\\"Suggested breakfast joints in Chennai\\\", \\\"suggested places of interest\\\" : \\\"Anna Square and Elliots Beach\\\", \\\"commute to places\\\" : \\\"taxi or bus\\\" }, \" + \n",
      "        \"{\n",
      "            \\\"afternoon\\\" : \\\"Suggested lunch joints in Chennai\\\", \\\"suggested places of interest\\\" : \\\"St. Thomas Mount and Valluvar Kottam\\\", \\\"commute to places\\\" : \\\"auto or taxi\\\" \n",
      "        }, {\n",
      "            \\\"evening\\\" : \\\"Suggested dinner joints in Chennai\\\", \\\"suggested places of interest\\\" : \\\"Kamarajar Port and MGM Dizzee World\\\", \\\"commute to places\\\" : \\\"taxi or bus\\\" \n",
      "        }], \",\n",
      "        \"day-7\": \"{\\\"morning\\\" : \\\"Suggested breakfast joints in Chennai\\\", \\\"suggested places of interest\\\" : \\\"Mannar Church and National Art Gallery\\\", \\\"commute to places\\\" : \\\"taxi or metro\\\" }, \" + \n",
      "        \"{\n",
      "            \\\"afternoon\\\" : \\\"Suggested lunch joints in Chennai\\\", \\\"suggested places of interest\\\" : \\\"Covelong Beach and Fort St. George\\\", \\\"commute to places\\\" : \\\"auto or bus\\\" \n",
      "        }, {\n",
      "            \\\"evening\\\" : \\\"Suggested dinner joints in Chennai\\\", \\\"suggested places of interest\\\" : \\\"Chennai Citi Center and Thousand Lights Mosque\\\", \\\"commute to places\\\" : \\\"taxi or metro\\\" \n",
      "        }], \" + \n",
      "        \"day-8: [{\\\"morning\\\" : \\\"Suggested breakfast joints in Chennai\\\", \\\"suggested places of interest\\\" : \\\"Valluvar Kottam and Nettikkuppam Beach\\\", \\\"commute to places\\\" : \\\"auto or metro\\\" }, \" + \n",
      "        \"{\n",
      "            \\\"afternoon\\\" : \\\"Suggested lunch joints in Chennai\\\", \\\"suggested places of interest\\\" : \\\"San Thome Cathedral, and Kapaleeshwar Temple\\\", \\\"commute to places\\\" : \\\"taxi or bus\\\" \n",
      "        }, {\n",
      "            \\\"evening\\\" : \\\"Suggested dinner joints in Chennai\\\", \\\"suggested places of interest\\\" : \\\"Chennai Lighthouse and the Fort St. George\\\", \\\"commute to places\\\" : \\\"auto or taxi\\\" \n",
      "        }], \",\n",
      "        \"day-9\": \"{\\\"morning\\\" : \\\"Suggested breakfast joints in Chennai\\\", \\\"suggested places of interest\\\" : \\\"Thirumayilai Temple and Pulicat Lake\\\", \\\"commute to places\\\" : \\\"bus or auto\\\" }, \" + \n",
      "        \"{\n",
      "            \\\"afternoon\\\" : \\\"Suggested lunch joints in Chennai\\\", \\\"suggested places of interest\\\" : \\\"Kamaraj Lake and Arignar Anna Zoo\\\", \\\"commute to places\\\" : \\\"taxi or bus\\\" \n",
      "        }, {\n",
      "            \\\"evening\\\" : \\\"Suggested dinner joints in Chennai\\\", \\\"suggested places of interest\\\" : \\\"Madras Motor Race Track (MMRT) and offers in Chennai City Center\\\", \\\"commute to places\\\" : \\\"taxi or bus\\\" \n",
      "        }], \"\n",
      "        \"]\n",
      "    \"}\n",
      "```\n",
      "\n",
      "Remember to reconfirm details and availability, and proceed with booking after considering your personal preferences and budget. \n"
     ]
    }
   ],
   "source": [
    "res = response.generations[0].text\n",
    "# res = response.text\n",
    "\n",
    "# Replace \"\\n\\n\" with actual newline characters\n",
    "formatted_text = res.replace(\"\\\\n\\\\n\", \"\\n\")\n",
    "\n",
    "# Print the formatted text\n",
    "print(formatted_text)"
   ]
  },
  {
   "cell_type": "code",
   "execution_count": null,
   "metadata": {},
   "outputs": [],
   "source": []
  }
 ],
 "metadata": {
  "kernelspec": {
   "display_name": "venv",
   "language": "python",
   "name": "python3"
  },
  "language_info": {
   "codemirror_mode": {
    "name": "ipython",
    "version": 3
   },
   "file_extension": ".py",
   "mimetype": "text/x-python",
   "name": "python",
   "nbconvert_exporter": "python",
   "pygments_lexer": "ipython3",
   "version": "3.10.4"
  }
 },
 "nbformat": 4,
 "nbformat_minor": 2
}
